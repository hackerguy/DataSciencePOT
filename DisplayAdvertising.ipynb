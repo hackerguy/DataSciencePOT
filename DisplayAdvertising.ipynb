{
 "cells": [
  {
   "cell_type": "markdown",
   "metadata": {},
   "source": [
    " # Predict click-through rates on display ads \n",
    "Internet advertising revenues in the United States totaled almost $60 billion in 2015, a 20% increase over 2014. Revenue numbers for 2016, when available, are expected to continue this trend. In addition, display advertising represents one of the most popular uses of machine learning on the Internet.\n",
    "  \n",
    "CriteoLabs (http://labs.criteo.com/downloads/2014-kaggle-display-advertising-challenge-dataset/) has made data available to develop models for predicting ad click-through rate (CTR). In this demo, we will only be using the much smaller test.csv dataset, rather than the larger train.csv dataset for both training and cross validating the model. Our goal is to demonstrate the process of exploring the data and creating machine learning pipelines in Python, rather than attempting to achieve the best score for predictions. The smaller dataset will make it much easier for users to download and begin using the data quickly. The trade-off is that the quantity of data limits the ability to accurately train a model. Users can download the larger train.csv dataset themselves to develop a more accurate model of click-through rates.\n",
    "  \n",
    "The dataset used in this demo (test.csv) consists of a portion of Criteo's traffic over a period of a day. Each row corresponds to a display ad served by Criteo. The data sample includes positive (clicked) and negative (non-clicked) examples and is labeled with respect to whether the ad was clicked or not.\n",
    "  \n",
    "Here is a description of the data fields in the dataset. The data includes missing values.\n",
    "\n",
    "    Label - Target variable that indicates if an ad was clicked (1) or not (0).\n",
    "    I1-I13 - A total of 13 columns of integer features (mostly count features).\n",
    "    C1-C26 - A total of 26 columns of categorical features. The values of these features have been hashed onto 32 bits for anonymization purposes. \n"
   ]
  },
  {
   "cell_type": "markdown",
   "metadata": {},
   "source": [
    "In this demo, we will explore how to explore data and create a machine learning pipeline using Python and scikit-learn. In addition, we will demonstrate how the spark-sklearn package (https://spark-packages.org/package/databricks/spark-sklearn) can be used to train and evaluate multiple scikit-learn models in parallel. Specifically, spark-sklearn distributes the search for estimator parameters (GridSearchCV in scikit-learn) using Spark.\n",
    "\n",
    "It combines the strengths of Spark and scikit-learn with no changes to users’ code. It re-implements some components of scikit-learn that benefit the most from distributed computing. Users will find a Spark-based cross-validator class that is fully compatible with scikit-learn’s cross-validation tools. By swapping out a single class import, users can distribute cross-validation for their existing scikit-learn workflows.\n",
    "\n",
    "The spark-sklearn integration package for Spark combines the strengths of Spark and scikit-learn with no changes to user code. The spark-sklearn package re-implements components of scikit-learn that can be run in parallel in a distributed computing environment. For example, a Spark-based cross-validator class that is fully compatible with scikit-learn’s cross-validation tools is provided. The Spark-based cross-validator can simply be imported in to replace scikit-learn's GridSearchCV cross-validation tool. This enables cross-validation for existing scikit-learn workflows to be run in parallel."
   ]
  },
  {
   "cell_type": "markdown",
   "metadata": {},
   "source": [
    "## Upgrade pandas and sklearn packages to latest versions"
   ]
  },
  {
   "cell_type": "code",
   "execution_count": 1,
   "metadata": {
    "collapsed": false
   },
   "outputs": [
    {
     "name": "stdout",
     "output_type": "stream",
     "text": [
      "Requirement already up-to-date: pandas in /gpfs/global_fs01/sym_shared/YPProdSpark/user/seda-14cf7a76f410ab-a5f39cf201a0/.local/lib/python3.5/site-packages\n",
      "Requirement already up-to-date: python-dateutil>=2 in /gpfs/global_fs01/sym_shared/YPProdSpark/user/seda-14cf7a76f410ab-a5f39cf201a0/.local/lib/python3.5/site-packages (from pandas)\n",
      "Requirement already up-to-date: numpy>=1.7.0 in /gpfs/global_fs01/sym_shared/YPProdSpark/user/seda-14cf7a76f410ab-a5f39cf201a0/.local/lib/python3.5/site-packages (from pandas)\n",
      "Requirement already up-to-date: pytz>=2011k in /gpfs/global_fs01/sym_shared/YPProdSpark/user/seda-14cf7a76f410ab-a5f39cf201a0/.local/lib/python3.5/site-packages (from pandas)\n",
      "Requirement already up-to-date: six>=1.5 in /usr/local/src/conda3_runtime.v4/4.1.1/lib/python3.5/site-packages (from python-dateutil>=2->pandas)\n",
      "Requirement already up-to-date: sklearn in /gpfs/global_fs01/sym_shared/YPProdSpark/user/seda-14cf7a76f410ab-a5f39cf201a0/.local/lib/python3.5/site-packages\n",
      "Requirement already up-to-date: scikit-learn in /gpfs/global_fs01/sym_shared/YPProdSpark/user/seda-14cf7a76f410ab-a5f39cf201a0/.local/lib/python3.5/site-packages (from sklearn)\n"
     ]
    }
   ],
   "source": [
    "# Upgrade pandas - need pandas 0.19.0 or greater\n",
    "!pip install pandas --upgrade\n",
    "# Upgrade scikit-learn\n",
    "!pip install sklearn --upgrade"
   ]
  },
  {
   "cell_type": "markdown",
   "metadata": {},
   "source": [
    "## Import packages and verify versions"
   ]
  },
  {
   "cell_type": "code",
   "execution_count": 2,
   "metadata": {
    "collapsed": false
   },
   "outputs": [
    {
     "name": "stdout",
     "output_type": "stream",
     "text": [
      "The pandas version is 0.19.2.\n",
      "The scikit-learn version is 0.18.1.\n"
     ]
    }
   ],
   "source": [
    "import sklearn\n",
    "import pandas as pd\n",
    "print('The pandas version is {}.'.format(pd.__version__))\n",
    "print('The scikit-learn version is {}.'.format(sklearn.__version__))"
   ]
  },
  {
   "cell_type": "markdown",
   "metadata": {},
   "source": [
    "## Read in the data as a Pandas DataFrame\n",
    "### Using data from the Kaggle Display Advertising Challenge"
   ]
  },
  {
   "cell_type": "code",
   "execution_count": 3,
   "metadata": {
    "collapsed": false
   },
   "outputs": [],
   "source": [
    "url = 'https://ibm.box.com/shared/static/teo1syd2k4wwyfswg1slfhdn7u5a0b9l.txt'\n",
    "col_names = (['Label', 'I1', 'I2', 'I3', 'I4', 'I5', 'I6', 'I7', 'I8', 'I9', 'I10', 'I11', 'I12', 'I13',\n",
    "             'C1', 'C2', 'C3', 'C4', 'C5', 'C6', 'C7', 'C8', 'C9', 'C10', 'C11', 'C12', 'C13',\n",
    "             'C14', 'C15', 'C16', 'C17', 'C18', 'C19', 'C20', 'C21', 'C22', 'C23', 'C24', 'C25', 'C26'])\n",
    "data_df = pd.read_table(url,sep='\\t', header=None, names=col_names)"
   ]
  },
  {
   "cell_type": "markdown",
   "metadata": {},
   "source": [
    "## Show sample data and its properties"
   ]
  },
  {
   "cell_type": "code",
   "execution_count": 4,
   "metadata": {
    "collapsed": false
   },
   "outputs": [
    {
     "data": {
      "text/html": [
       "<div>\n",
       "<table border=\"1\" class=\"dataframe\">\n",
       "  <thead>\n",
       "    <tr style=\"text-align: right;\">\n",
       "      <th></th>\n",
       "      <th>Label</th>\n",
       "      <th>I1</th>\n",
       "      <th>I2</th>\n",
       "      <th>I3</th>\n",
       "      <th>I4</th>\n",
       "      <th>I5</th>\n",
       "      <th>I6</th>\n",
       "      <th>I7</th>\n",
       "      <th>I8</th>\n",
       "      <th>I9</th>\n",
       "      <th>...</th>\n",
       "      <th>C17</th>\n",
       "      <th>C18</th>\n",
       "      <th>C19</th>\n",
       "      <th>C20</th>\n",
       "      <th>C21</th>\n",
       "      <th>C22</th>\n",
       "      <th>C23</th>\n",
       "      <th>C24</th>\n",
       "      <th>C25</th>\n",
       "      <th>C26</th>\n",
       "    </tr>\n",
       "  </thead>\n",
       "  <tbody>\n",
       "    <tr>\n",
       "      <th>3582</th>\n",
       "      <td>1</td>\n",
       "      <td>NaN</td>\n",
       "      <td>-1</td>\n",
       "      <td>NaN</td>\n",
       "      <td>NaN</td>\n",
       "      <td>3319.0</td>\n",
       "      <td>11.0</td>\n",
       "      <td>1.0</td>\n",
       "      <td>11.0</td>\n",
       "      <td>11.0</td>\n",
       "      <td>...</td>\n",
       "      <td>e5ba7672</td>\n",
       "      <td>582152eb</td>\n",
       "      <td>21ddcdc9</td>\n",
       "      <td>5840adea</td>\n",
       "      <td>259c0aa9</td>\n",
       "      <td>NaN</td>\n",
       "      <td>423fab69</td>\n",
       "      <td>de0d7b75</td>\n",
       "      <td>001f3601</td>\n",
       "      <td>b2a97390</td>\n",
       "    </tr>\n",
       "    <tr>\n",
       "      <th>60498</th>\n",
       "      <td>0</td>\n",
       "      <td>NaN</td>\n",
       "      <td>-1</td>\n",
       "      <td>33.0</td>\n",
       "      <td>4.0</td>\n",
       "      <td>8966.0</td>\n",
       "      <td>NaN</td>\n",
       "      <td>0.0</td>\n",
       "      <td>33.0</td>\n",
       "      <td>50.0</td>\n",
       "      <td>...</td>\n",
       "      <td>776ce399</td>\n",
       "      <td>7119e567</td>\n",
       "      <td>21ddcdc9</td>\n",
       "      <td>a458ea53</td>\n",
       "      <td>dfe108ba</td>\n",
       "      <td>NaN</td>\n",
       "      <td>32c7478e</td>\n",
       "      <td>f14753fa</td>\n",
       "      <td>e8b83407</td>\n",
       "      <td>28793267</td>\n",
       "    </tr>\n",
       "    <tr>\n",
       "      <th>53227</th>\n",
       "      <td>1</td>\n",
       "      <td>14.0</td>\n",
       "      <td>2</td>\n",
       "      <td>2.0</td>\n",
       "      <td>NaN</td>\n",
       "      <td>105.0</td>\n",
       "      <td>0.0</td>\n",
       "      <td>56.0</td>\n",
       "      <td>23.0</td>\n",
       "      <td>282.0</td>\n",
       "      <td>...</td>\n",
       "      <td>e5ba7672</td>\n",
       "      <td>c21c3e4c</td>\n",
       "      <td>21ddcdc9</td>\n",
       "      <td>a458ea53</td>\n",
       "      <td>565b9e6e</td>\n",
       "      <td>NaN</td>\n",
       "      <td>423fab69</td>\n",
       "      <td>3fdb382b</td>\n",
       "      <td>9b3e8820</td>\n",
       "      <td>49d68486</td>\n",
       "    </tr>\n",
       "    <tr>\n",
       "      <th>21333</th>\n",
       "      <td>0</td>\n",
       "      <td>4.0</td>\n",
       "      <td>0</td>\n",
       "      <td>NaN</td>\n",
       "      <td>4.0</td>\n",
       "      <td>4.0</td>\n",
       "      <td>5.0</td>\n",
       "      <td>5.0</td>\n",
       "      <td>5.0</td>\n",
       "      <td>12.0</td>\n",
       "      <td>...</td>\n",
       "      <td>e5ba7672</td>\n",
       "      <td>7cf65c5f</td>\n",
       "      <td>NaN</td>\n",
       "      <td>NaN</td>\n",
       "      <td>ae90cc8b</td>\n",
       "      <td>NaN</td>\n",
       "      <td>32c7478e</td>\n",
       "      <td>6c1cdd05</td>\n",
       "      <td>NaN</td>\n",
       "      <td>NaN</td>\n",
       "    </tr>\n",
       "    <tr>\n",
       "      <th>3885</th>\n",
       "      <td>0</td>\n",
       "      <td>NaN</td>\n",
       "      <td>25</td>\n",
       "      <td>44.0</td>\n",
       "      <td>30.0</td>\n",
       "      <td>36.0</td>\n",
       "      <td>NaN</td>\n",
       "      <td>0.0</td>\n",
       "      <td>30.0</td>\n",
       "      <td>30.0</td>\n",
       "      <td>...</td>\n",
       "      <td>1e88c74f</td>\n",
       "      <td>582152eb</td>\n",
       "      <td>21ddcdc9</td>\n",
       "      <td>5840adea</td>\n",
       "      <td>NaN</td>\n",
       "      <td>NaN</td>\n",
       "      <td>32c7478e</td>\n",
       "      <td>NaN</td>\n",
       "      <td>001f3601</td>\n",
       "      <td>56be3401</td>\n",
       "    </tr>\n",
       "  </tbody>\n",
       "</table>\n",
       "<p>5 rows × 40 columns</p>\n",
       "</div>"
      ],
      "text/plain": [
       "       Label    I1  I2    I3    I4      I5    I6    I7    I8     I9    ...     \\\n",
       "3582       1   NaN  -1   NaN   NaN  3319.0  11.0   1.0  11.0   11.0    ...      \n",
       "60498      0   NaN  -1  33.0   4.0  8966.0   NaN   0.0  33.0   50.0    ...      \n",
       "53227      1  14.0   2   2.0   NaN   105.0   0.0  56.0  23.0  282.0    ...      \n",
       "21333      0   4.0   0   NaN   4.0     4.0   5.0   5.0   5.0   12.0    ...      \n",
       "3885       0   NaN  25  44.0  30.0    36.0   NaN   0.0  30.0   30.0    ...      \n",
       "\n",
       "            C17       C18       C19       C20       C21  C22       C23  \\\n",
       "3582   e5ba7672  582152eb  21ddcdc9  5840adea  259c0aa9  NaN  423fab69   \n",
       "60498  776ce399  7119e567  21ddcdc9  a458ea53  dfe108ba  NaN  32c7478e   \n",
       "53227  e5ba7672  c21c3e4c  21ddcdc9  a458ea53  565b9e6e  NaN  423fab69   \n",
       "21333  e5ba7672  7cf65c5f       NaN       NaN  ae90cc8b  NaN  32c7478e   \n",
       "3885   1e88c74f  582152eb  21ddcdc9  5840adea       NaN  NaN  32c7478e   \n",
       "\n",
       "            C24       C25       C26  \n",
       "3582   de0d7b75  001f3601  b2a97390  \n",
       "60498  f14753fa  e8b83407  28793267  \n",
       "53227  3fdb382b  9b3e8820  49d68486  \n",
       "21333  6c1cdd05       NaN       NaN  \n",
       "3885        NaN  001f3601  56be3401  \n",
       "\n",
       "[5 rows x 40 columns]"
      ]
     },
     "execution_count": 4,
     "metadata": {},
     "output_type": "execute_result"
    }
   ],
   "source": [
    "# Note that there are missing values\n",
    "data_df.sample(n=5, random_state=0)"
   ]
  },
  {
   "cell_type": "code",
   "execution_count": 5,
   "metadata": {
    "collapsed": false
   },
   "outputs": [
    {
     "data": {
      "text/plain": [
       "(100000, 40)"
      ]
     },
     "execution_count": 5,
     "metadata": {},
     "output_type": "execute_result"
    }
   ],
   "source": [
    "#Show shape of the data\n",
    "data_df.shape\n",
    "# 100,000 rows x 40 columns"
   ]
  },
  {
   "cell_type": "code",
   "execution_count": 6,
   "metadata": {
    "collapsed": false,
    "scrolled": true
   },
   "outputs": [
    {
     "name": "stdout",
     "output_type": "stream",
     "text": [
      "<class 'pandas.core.frame.DataFrame'>\n",
      "RangeIndex: 100000 entries, 0 to 99999\n",
      "Data columns (total 40 columns):\n",
      "Label    100000 non-null int64\n",
      "I1       55587 non-null float64\n",
      "I2       100000 non-null int64\n",
      "I3       80898 non-null float64\n",
      "I4       80466 non-null float64\n",
      "I5       95240 non-null float64\n",
      "I6       74893 non-null float64\n",
      "I7       95281 non-null float64\n",
      "I8       99893 non-null float64\n",
      "I9       95281 non-null float64\n",
      "I10      55587 non-null float64\n",
      "I11      95281 non-null float64\n",
      "I12      22820 non-null float64\n",
      "I13      80466 non-null float64\n",
      "C1       100000 non-null object\n",
      "C2       100000 non-null object\n",
      "C3       96065 non-null object\n",
      "C4       96065 non-null object\n",
      "C5       100000 non-null object\n",
      "C6       86292 non-null object\n",
      "C7       100000 non-null object\n",
      "C8       100000 non-null object\n",
      "C9       100000 non-null object\n",
      "C10      100000 non-null object\n",
      "C11      100000 non-null object\n",
      "C12      96065 non-null object\n",
      "C13      100000 non-null object\n",
      "C14      100000 non-null object\n",
      "C15      100000 non-null object\n",
      "C16      96065 non-null object\n",
      "C17      100000 non-null object\n",
      "C18      100000 non-null object\n",
      "C19      58529 non-null object\n",
      "C20      58529 non-null object\n",
      "C21      96065 non-null object\n",
      "C22      18434 non-null object\n",
      "C23      100000 non-null object\n",
      "C24      96065 non-null object\n",
      "C25      58529 non-null object\n",
      "C26      58529 non-null object\n",
      "dtypes: float64(12), int64(2), object(26)\n",
      "memory usage: 30.5+ MB\n"
     ]
    }
   ],
   "source": [
    "data_df.info()\n",
    "# Again, notice that there are null values. That is all rows are not non-null."
   ]
  },
  {
   "cell_type": "code",
   "execution_count": 7,
   "metadata": {
    "collapsed": false
   },
   "outputs": [
    {
     "name": "stdout",
     "output_type": "stream",
     "text": [
      "Number of rows labeled 0 = 77337\n",
      "Number of rows labeled 1 = 22663\n"
     ]
    }
   ],
   "source": [
    "print('Number of rows labeled 0 = {}'.format(data_df[data_df['Label'] == 0].loc[:,'Label'].count()))\n",
    "print('Number of rows labeled 1 = {}'.format(data_df[data_df['Label'] == 1].loc[:,'Label'].count()))      "
   ]
  },
  {
   "cell_type": "markdown",
   "metadata": {},
   "source": [
    "## Address null values in the data\n",
    "\n",
    "* Null categorical data will be treated as its own category\n",
    "* Null numeric data will be dropped"
   ]
  },
  {
   "cell_type": "markdown",
   "metadata": {},
   "source": [
    "### Categorical Data"
   ]
  },
  {
   "cell_type": "code",
   "execution_count": 8,
   "metadata": {
    "collapsed": false
   },
   "outputs": [
    {
     "data": {
      "text/plain": [
       "{'C1': 'NoCat',\n",
       " 'C10': 'NoCat',\n",
       " 'C11': 'NoCat',\n",
       " 'C12': 'NoCat',\n",
       " 'C13': 'NoCat',\n",
       " 'C14': 'NoCat',\n",
       " 'C15': 'NoCat',\n",
       " 'C16': 'NoCat',\n",
       " 'C17': 'NoCat',\n",
       " 'C18': 'NoCat',\n",
       " 'C19': 'NoCat',\n",
       " 'C2': 'NoCat',\n",
       " 'C20': 'NoCat',\n",
       " 'C21': 'NoCat',\n",
       " 'C22': 'NoCat',\n",
       " 'C23': 'NoCat',\n",
       " 'C24': 'NoCat',\n",
       " 'C25': 'NoCat',\n",
       " 'C26': 'NoCat',\n",
       " 'C3': 'NoCat',\n",
       " 'C4': 'NoCat',\n",
       " 'C5': 'NoCat',\n",
       " 'C6': 'NoCat',\n",
       " 'C7': 'NoCat',\n",
       " 'C8': 'NoCat',\n",
       " 'C9': 'NoCat'}"
      ]
     },
     "execution_count": 8,
     "metadata": {},
     "output_type": "execute_result"
    }
   ],
   "source": [
    "# Create a list of categorial column names by extracting them from the DataFrame\n",
    "catColList = data_df.columns.values.tolist()[-26:]\n",
    "NoCatList = []\n",
    "for _ in catColList: NoCatList.append('NoCat')\n",
    "\n",
    "# Create a dictionary that will be used to set null categorical values to 'NoCat'\n",
    "NoCatDict = dict(zip(catColList, NoCatList))\n",
    "NoCatDict"
   ]
  },
  {
   "cell_type": "code",
   "execution_count": 9,
   "metadata": {
    "collapsed": false
   },
   "outputs": [],
   "source": [
    "# Set null categorical values to a value of 'NoCat' using the dictionary with column name keys\n",
    "data_df = data_df.fillna(value=NoCatDict)"
   ]
  },
  {
   "cell_type": "code",
   "execution_count": 10,
   "metadata": {
    "collapsed": false
   },
   "outputs": [
    {
     "data": {
      "text/html": [
       "<div>\n",
       "<table border=\"1\" class=\"dataframe\">\n",
       "  <thead>\n",
       "    <tr style=\"text-align: right;\">\n",
       "      <th></th>\n",
       "      <th>Label</th>\n",
       "      <th>I1</th>\n",
       "      <th>I2</th>\n",
       "      <th>I3</th>\n",
       "      <th>I4</th>\n",
       "      <th>I5</th>\n",
       "      <th>I6</th>\n",
       "      <th>I7</th>\n",
       "      <th>I8</th>\n",
       "      <th>I9</th>\n",
       "      <th>...</th>\n",
       "      <th>C17</th>\n",
       "      <th>C18</th>\n",
       "      <th>C19</th>\n",
       "      <th>C20</th>\n",
       "      <th>C21</th>\n",
       "      <th>C22</th>\n",
       "      <th>C23</th>\n",
       "      <th>C24</th>\n",
       "      <th>C25</th>\n",
       "      <th>C26</th>\n",
       "    </tr>\n",
       "  </thead>\n",
       "  <tbody>\n",
       "    <tr>\n",
       "      <th>3582</th>\n",
       "      <td>1</td>\n",
       "      <td>NaN</td>\n",
       "      <td>-1</td>\n",
       "      <td>NaN</td>\n",
       "      <td>NaN</td>\n",
       "      <td>3319.0</td>\n",
       "      <td>11.0</td>\n",
       "      <td>1.0</td>\n",
       "      <td>11.0</td>\n",
       "      <td>11.0</td>\n",
       "      <td>...</td>\n",
       "      <td>e5ba7672</td>\n",
       "      <td>582152eb</td>\n",
       "      <td>21ddcdc9</td>\n",
       "      <td>5840adea</td>\n",
       "      <td>259c0aa9</td>\n",
       "      <td>NoCat</td>\n",
       "      <td>423fab69</td>\n",
       "      <td>de0d7b75</td>\n",
       "      <td>001f3601</td>\n",
       "      <td>b2a97390</td>\n",
       "    </tr>\n",
       "    <tr>\n",
       "      <th>60498</th>\n",
       "      <td>0</td>\n",
       "      <td>NaN</td>\n",
       "      <td>-1</td>\n",
       "      <td>33.0</td>\n",
       "      <td>4.0</td>\n",
       "      <td>8966.0</td>\n",
       "      <td>NaN</td>\n",
       "      <td>0.0</td>\n",
       "      <td>33.0</td>\n",
       "      <td>50.0</td>\n",
       "      <td>...</td>\n",
       "      <td>776ce399</td>\n",
       "      <td>7119e567</td>\n",
       "      <td>21ddcdc9</td>\n",
       "      <td>a458ea53</td>\n",
       "      <td>dfe108ba</td>\n",
       "      <td>NoCat</td>\n",
       "      <td>32c7478e</td>\n",
       "      <td>f14753fa</td>\n",
       "      <td>e8b83407</td>\n",
       "      <td>28793267</td>\n",
       "    </tr>\n",
       "    <tr>\n",
       "      <th>53227</th>\n",
       "      <td>1</td>\n",
       "      <td>14.0</td>\n",
       "      <td>2</td>\n",
       "      <td>2.0</td>\n",
       "      <td>NaN</td>\n",
       "      <td>105.0</td>\n",
       "      <td>0.0</td>\n",
       "      <td>56.0</td>\n",
       "      <td>23.0</td>\n",
       "      <td>282.0</td>\n",
       "      <td>...</td>\n",
       "      <td>e5ba7672</td>\n",
       "      <td>c21c3e4c</td>\n",
       "      <td>21ddcdc9</td>\n",
       "      <td>a458ea53</td>\n",
       "      <td>565b9e6e</td>\n",
       "      <td>NoCat</td>\n",
       "      <td>423fab69</td>\n",
       "      <td>3fdb382b</td>\n",
       "      <td>9b3e8820</td>\n",
       "      <td>49d68486</td>\n",
       "    </tr>\n",
       "    <tr>\n",
       "      <th>21333</th>\n",
       "      <td>0</td>\n",
       "      <td>4.0</td>\n",
       "      <td>0</td>\n",
       "      <td>NaN</td>\n",
       "      <td>4.0</td>\n",
       "      <td>4.0</td>\n",
       "      <td>5.0</td>\n",
       "      <td>5.0</td>\n",
       "      <td>5.0</td>\n",
       "      <td>12.0</td>\n",
       "      <td>...</td>\n",
       "      <td>e5ba7672</td>\n",
       "      <td>7cf65c5f</td>\n",
       "      <td>NoCat</td>\n",
       "      <td>NoCat</td>\n",
       "      <td>ae90cc8b</td>\n",
       "      <td>NoCat</td>\n",
       "      <td>32c7478e</td>\n",
       "      <td>6c1cdd05</td>\n",
       "      <td>NoCat</td>\n",
       "      <td>NoCat</td>\n",
       "    </tr>\n",
       "    <tr>\n",
       "      <th>3885</th>\n",
       "      <td>0</td>\n",
       "      <td>NaN</td>\n",
       "      <td>25</td>\n",
       "      <td>44.0</td>\n",
       "      <td>30.0</td>\n",
       "      <td>36.0</td>\n",
       "      <td>NaN</td>\n",
       "      <td>0.0</td>\n",
       "      <td>30.0</td>\n",
       "      <td>30.0</td>\n",
       "      <td>...</td>\n",
       "      <td>1e88c74f</td>\n",
       "      <td>582152eb</td>\n",
       "      <td>21ddcdc9</td>\n",
       "      <td>5840adea</td>\n",
       "      <td>NoCat</td>\n",
       "      <td>NoCat</td>\n",
       "      <td>32c7478e</td>\n",
       "      <td>NoCat</td>\n",
       "      <td>001f3601</td>\n",
       "      <td>56be3401</td>\n",
       "    </tr>\n",
       "  </tbody>\n",
       "</table>\n",
       "<p>5 rows × 40 columns</p>\n",
       "</div>"
      ],
      "text/plain": [
       "       Label    I1  I2    I3    I4      I5    I6    I7    I8     I9    ...     \\\n",
       "3582       1   NaN  -1   NaN   NaN  3319.0  11.0   1.0  11.0   11.0    ...      \n",
       "60498      0   NaN  -1  33.0   4.0  8966.0   NaN   0.0  33.0   50.0    ...      \n",
       "53227      1  14.0   2   2.0   NaN   105.0   0.0  56.0  23.0  282.0    ...      \n",
       "21333      0   4.0   0   NaN   4.0     4.0   5.0   5.0   5.0   12.0    ...      \n",
       "3885       0   NaN  25  44.0  30.0    36.0   NaN   0.0  30.0   30.0    ...      \n",
       "\n",
       "            C17       C18       C19       C20       C21    C22       C23  \\\n",
       "3582   e5ba7672  582152eb  21ddcdc9  5840adea  259c0aa9  NoCat  423fab69   \n",
       "60498  776ce399  7119e567  21ddcdc9  a458ea53  dfe108ba  NoCat  32c7478e   \n",
       "53227  e5ba7672  c21c3e4c  21ddcdc9  a458ea53  565b9e6e  NoCat  423fab69   \n",
       "21333  e5ba7672  7cf65c5f     NoCat     NoCat  ae90cc8b  NoCat  32c7478e   \n",
       "3885   1e88c74f  582152eb  21ddcdc9  5840adea     NoCat  NoCat  32c7478e   \n",
       "\n",
       "            C24       C25       C26  \n",
       "3582   de0d7b75  001f3601  b2a97390  \n",
       "60498  f14753fa  e8b83407  28793267  \n",
       "53227  3fdb382b  9b3e8820  49d68486  \n",
       "21333  6c1cdd05     NoCat     NoCat  \n",
       "3885      NoCat  001f3601  56be3401  \n",
       "\n",
       "[5 rows x 40 columns]"
      ]
     },
     "execution_count": 10,
     "metadata": {},
     "output_type": "execute_result"
    }
   ],
   "source": [
    "# Show sample of resulting DataFrame\n",
    "data_df.sample(n=5, random_state=0)"
   ]
  },
  {
   "cell_type": "markdown",
   "metadata": {},
   "source": [
    "### Numerical data"
   ]
  },
  {
   "cell_type": "code",
   "execution_count": 11,
   "metadata": {
    "collapsed": false
   },
   "outputs": [
    {
     "data": {
      "text/plain": [
       "(12853, 40)"
      ]
     },
     "execution_count": 11,
     "metadata": {},
     "output_type": "execute_result"
    }
   ],
   "source": [
    "# Drop any remaining rows that still have null values (i.e. in the columns with numerical data)\n",
    "data_df = data_df.dropna(axis=0)\n",
    "data_df.shape\n",
    "# Number of rows reduced from 100,000 to 12,853"
   ]
  },
  {
   "cell_type": "code",
   "execution_count": 12,
   "metadata": {
    "collapsed": false
   },
   "outputs": [
    {
     "name": "stdout",
     "output_type": "stream",
     "text": [
      "<class 'pandas.core.frame.DataFrame'>\n",
      "Int64Index: 12853 entries, 2 to 99997\n",
      "Data columns (total 40 columns):\n",
      "Label    12853 non-null int64\n",
      "I1       12853 non-null float64\n",
      "I2       12853 non-null int64\n",
      "I3       12853 non-null float64\n",
      "I4       12853 non-null float64\n",
      "I5       12853 non-null float64\n",
      "I6       12853 non-null float64\n",
      "I7       12853 non-null float64\n",
      "I8       12853 non-null float64\n",
      "I9       12853 non-null float64\n",
      "I10      12853 non-null float64\n",
      "I11      12853 non-null float64\n",
      "I12      12853 non-null float64\n",
      "I13      12853 non-null float64\n",
      "C1       12853 non-null object\n",
      "C2       12853 non-null object\n",
      "C3       12853 non-null object\n",
      "C4       12853 non-null object\n",
      "C5       12853 non-null object\n",
      "C6       12853 non-null object\n",
      "C7       12853 non-null object\n",
      "C8       12853 non-null object\n",
      "C9       12853 non-null object\n",
      "C10      12853 non-null object\n",
      "C11      12853 non-null object\n",
      "C12      12853 non-null object\n",
      "C13      12853 non-null object\n",
      "C14      12853 non-null object\n",
      "C15      12853 non-null object\n",
      "C16      12853 non-null object\n",
      "C17      12853 non-null object\n",
      "C18      12853 non-null object\n",
      "C19      12853 non-null object\n",
      "C20      12853 non-null object\n",
      "C21      12853 non-null object\n",
      "C22      12853 non-null object\n",
      "C23      12853 non-null object\n",
      "C24      12853 non-null object\n",
      "C25      12853 non-null object\n",
      "C26      12853 non-null object\n",
      "dtypes: float64(12), int64(2), object(26)\n",
      "memory usage: 4.0+ MB\n"
     ]
    }
   ],
   "source": [
    "data_df.info()\n",
    "# All columns now contain only non-null values"
   ]
  },
  {
   "cell_type": "markdown",
   "metadata": {},
   "source": [
    "## Convert numeric data to integer (some numeric columns were inferred as float64)"
   ]
  },
  {
   "cell_type": "code",
   "execution_count": 13,
   "metadata": {
    "collapsed": false
   },
   "outputs": [
    {
     "data": {
      "text/plain": [
       "{'I1': 'int',\n",
       " 'I10': 'int',\n",
       " 'I11': 'int',\n",
       " 'I12': 'int',\n",
       " 'I13': 'int',\n",
       " 'I2': 'int',\n",
       " 'I3': 'int',\n",
       " 'I4': 'int',\n",
       " 'I5': 'int',\n",
       " 'I6': 'int',\n",
       " 'I7': 'int',\n",
       " 'I8': 'int',\n",
       " 'I9': 'int'}"
      ]
     },
     "execution_count": 13,
     "metadata": {},
     "output_type": "execute_result"
    }
   ],
   "source": [
    "# Extract a list of the numeric columnn names from the DataFrame\n",
    "intColList = data_df.columns.values.tolist()[1:14]\n",
    "intList = []\n",
    "for _ in intColList: intList.append('int')\n",
    "# Create a dictionary that will be used to set the numeric columns to integer type\n",
    "intDict = dict(zip(intColList, intList))\n",
    "intDict"
   ]
  },
  {
   "cell_type": "code",
   "execution_count": 14,
   "metadata": {
    "collapsed": false
   },
   "outputs": [
    {
     "name": "stdout",
     "output_type": "stream",
     "text": [
      "<class 'pandas.core.frame.DataFrame'>\n",
      "Int64Index: 12853 entries, 2 to 99997\n",
      "Data columns (total 40 columns):\n",
      "Label    12853 non-null int64\n",
      "I1       12853 non-null int64\n",
      "I2       12853 non-null int64\n",
      "I3       12853 non-null int64\n",
      "I4       12853 non-null int64\n",
      "I5       12853 non-null int64\n",
      "I6       12853 non-null int64\n",
      "I7       12853 non-null int64\n",
      "I8       12853 non-null int64\n",
      "I9       12853 non-null int64\n",
      "I10      12853 non-null int64\n",
      "I11      12853 non-null int64\n",
      "I12      12853 non-null int64\n",
      "I13      12853 non-null int64\n",
      "C1       12853 non-null object\n",
      "C2       12853 non-null object\n",
      "C3       12853 non-null object\n",
      "C4       12853 non-null object\n",
      "C5       12853 non-null object\n",
      "C6       12853 non-null object\n",
      "C7       12853 non-null object\n",
      "C8       12853 non-null object\n",
      "C9       12853 non-null object\n",
      "C10      12853 non-null object\n",
      "C11      12853 non-null object\n",
      "C12      12853 non-null object\n",
      "C13      12853 non-null object\n",
      "C14      12853 non-null object\n",
      "C15      12853 non-null object\n",
      "C16      12853 non-null object\n",
      "C17      12853 non-null object\n",
      "C18      12853 non-null object\n",
      "C19      12853 non-null object\n",
      "C20      12853 non-null object\n",
      "C21      12853 non-null object\n",
      "C22      12853 non-null object\n",
      "C23      12853 non-null object\n",
      "C24      12853 non-null object\n",
      "C25      12853 non-null object\n",
      "C26      12853 non-null object\n",
      "dtypes: int64(14), object(26)\n",
      "memory usage: 4.0+ MB\n"
     ]
    }
   ],
   "source": [
    "# Conert the numeric columns to integer\n",
    "data_df = data_df.astype(intDict)\n",
    "data_df.info()\n",
    "# All numeric data is now int64"
   ]
  },
  {
   "cell_type": "code",
   "execution_count": 15,
   "metadata": {
    "collapsed": false
   },
   "outputs": [
    {
     "data": {
      "text/html": [
       "<div>\n",
       "<table border=\"1\" class=\"dataframe\">\n",
       "  <thead>\n",
       "    <tr style=\"text-align: right;\">\n",
       "      <th></th>\n",
       "      <th>Label</th>\n",
       "      <th>I1</th>\n",
       "      <th>I2</th>\n",
       "      <th>I3</th>\n",
       "      <th>I4</th>\n",
       "      <th>I5</th>\n",
       "      <th>I6</th>\n",
       "      <th>I7</th>\n",
       "      <th>I8</th>\n",
       "      <th>I9</th>\n",
       "      <th>...</th>\n",
       "      <th>C17</th>\n",
       "      <th>C18</th>\n",
       "      <th>C19</th>\n",
       "      <th>C20</th>\n",
       "      <th>C21</th>\n",
       "      <th>C22</th>\n",
       "      <th>C23</th>\n",
       "      <th>C24</th>\n",
       "      <th>C25</th>\n",
       "      <th>C26</th>\n",
       "    </tr>\n",
       "  </thead>\n",
       "  <tbody>\n",
       "    <tr>\n",
       "      <th>85327</th>\n",
       "      <td>1</td>\n",
       "      <td>8</td>\n",
       "      <td>53</td>\n",
       "      <td>1</td>\n",
       "      <td>4</td>\n",
       "      <td>293</td>\n",
       "      <td>11</td>\n",
       "      <td>13</td>\n",
       "      <td>48</td>\n",
       "      <td>97</td>\n",
       "      <td>...</td>\n",
       "      <td>8efede7f</td>\n",
       "      <td>fd3919f9</td>\n",
       "      <td>21ddcdc9</td>\n",
       "      <td>5840adea</td>\n",
       "      <td>636bf64c</td>\n",
       "      <td>NoCat</td>\n",
       "      <td>3a171ecb</td>\n",
       "      <td>7c2d72a4</td>\n",
       "      <td>724b04da</td>\n",
       "      <td>912316ae</td>\n",
       "    </tr>\n",
       "    <tr>\n",
       "      <th>60972</th>\n",
       "      <td>0</td>\n",
       "      <td>0</td>\n",
       "      <td>-1</td>\n",
       "      <td>30</td>\n",
       "      <td>14</td>\n",
       "      <td>1634</td>\n",
       "      <td>34</td>\n",
       "      <td>9</td>\n",
       "      <td>29</td>\n",
       "      <td>29</td>\n",
       "      <td>...</td>\n",
       "      <td>3486227d</td>\n",
       "      <td>836a67dd</td>\n",
       "      <td>21ddcdc9</td>\n",
       "      <td>5840adea</td>\n",
       "      <td>a0338ef2</td>\n",
       "      <td>NoCat</td>\n",
       "      <td>32c7478e</td>\n",
       "      <td>218c9ff7</td>\n",
       "      <td>7a402766</td>\n",
       "      <td>dd0ce319</td>\n",
       "    </tr>\n",
       "    <tr>\n",
       "      <th>83932</th>\n",
       "      <td>0</td>\n",
       "      <td>0</td>\n",
       "      <td>0</td>\n",
       "      <td>13</td>\n",
       "      <td>22</td>\n",
       "      <td>1585</td>\n",
       "      <td>59</td>\n",
       "      <td>61</td>\n",
       "      <td>18</td>\n",
       "      <td>414</td>\n",
       "      <td>...</td>\n",
       "      <td>8efede7f</td>\n",
       "      <td>1f868fdd</td>\n",
       "      <td>21ddcdc9</td>\n",
       "      <td>a458ea53</td>\n",
       "      <td>9602bca0</td>\n",
       "      <td>NoCat</td>\n",
       "      <td>32c7478e</td>\n",
       "      <td>3fdb382b</td>\n",
       "      <td>e8b83407</td>\n",
       "      <td>6ebf7157</td>\n",
       "    </tr>\n",
       "    <tr>\n",
       "      <th>23656</th>\n",
       "      <td>0</td>\n",
       "      <td>1</td>\n",
       "      <td>1</td>\n",
       "      <td>9</td>\n",
       "      <td>9</td>\n",
       "      <td>0</td>\n",
       "      <td>1</td>\n",
       "      <td>16</td>\n",
       "      <td>35</td>\n",
       "      <td>64</td>\n",
       "      <td>...</td>\n",
       "      <td>8efede7f</td>\n",
       "      <td>fd3919f9</td>\n",
       "      <td>21ddcdc9</td>\n",
       "      <td>5840adea</td>\n",
       "      <td>43d01030</td>\n",
       "      <td>NoCat</td>\n",
       "      <td>dbb486d7</td>\n",
       "      <td>4acb8523</td>\n",
       "      <td>724b04da</td>\n",
       "      <td>c986348f</td>\n",
       "    </tr>\n",
       "    <tr>\n",
       "      <th>10430</th>\n",
       "      <td>0</td>\n",
       "      <td>1</td>\n",
       "      <td>0</td>\n",
       "      <td>10</td>\n",
       "      <td>8</td>\n",
       "      <td>93</td>\n",
       "      <td>8</td>\n",
       "      <td>19</td>\n",
       "      <td>16</td>\n",
       "      <td>92</td>\n",
       "      <td>...</td>\n",
       "      <td>e5ba7672</td>\n",
       "      <td>005c6740</td>\n",
       "      <td>21ddcdc9</td>\n",
       "      <td>5840adea</td>\n",
       "      <td>8717ea07</td>\n",
       "      <td>ad3062eb</td>\n",
       "      <td>3a171ecb</td>\n",
       "      <td>1793a828</td>\n",
       "      <td>e8b83407</td>\n",
       "      <td>b9809574</td>\n",
       "    </tr>\n",
       "  </tbody>\n",
       "</table>\n",
       "<p>5 rows × 40 columns</p>\n",
       "</div>"
      ],
      "text/plain": [
       "       Label  I1  I2  I3  I4    I5  I6  I7  I8   I9    ...          C17  \\\n",
       "85327      1   8  53   1   4   293  11  13  48   97    ...     8efede7f   \n",
       "60972      0   0  -1  30  14  1634  34   9  29   29    ...     3486227d   \n",
       "83932      0   0   0  13  22  1585  59  61  18  414    ...     8efede7f   \n",
       "23656      0   1   1   9   9     0   1  16  35   64    ...     8efede7f   \n",
       "10430      0   1   0  10   8    93   8  19  16   92    ...     e5ba7672   \n",
       "\n",
       "            C18       C19       C20       C21       C22       C23       C24  \\\n",
       "85327  fd3919f9  21ddcdc9  5840adea  636bf64c     NoCat  3a171ecb  7c2d72a4   \n",
       "60972  836a67dd  21ddcdc9  5840adea  a0338ef2     NoCat  32c7478e  218c9ff7   \n",
       "83932  1f868fdd  21ddcdc9  a458ea53  9602bca0     NoCat  32c7478e  3fdb382b   \n",
       "23656  fd3919f9  21ddcdc9  5840adea  43d01030     NoCat  dbb486d7  4acb8523   \n",
       "10430  005c6740  21ddcdc9  5840adea  8717ea07  ad3062eb  3a171ecb  1793a828   \n",
       "\n",
       "            C25       C26  \n",
       "85327  724b04da  912316ae  \n",
       "60972  7a402766  dd0ce319  \n",
       "83932  e8b83407  6ebf7157  \n",
       "23656  724b04da  c986348f  \n",
       "10430  e8b83407  b9809574  \n",
       "\n",
       "[5 rows x 40 columns]"
      ]
     },
     "execution_count": 15,
     "metadata": {},
     "output_type": "execute_result"
    }
   ],
   "source": [
    "# Sample the transformed DataFrame\n",
    "data_df.sample(n=5, random_state=2)"
   ]
  },
  {
   "cell_type": "markdown",
   "metadata": {},
   "source": [
    "## Prepare the data for machine learning"
   ]
  },
  {
   "cell_type": "code",
   "execution_count": 16,
   "metadata": {
    "collapsed": false
   },
   "outputs": [],
   "source": [
    "# Create features and label dataframes\n",
    "feature_cols = data_df.columns.values.tolist()[1:]\n",
    "X = data_df[feature_cols]\n",
    "y = data_df.Label"
   ]
  },
  {
   "cell_type": "markdown",
   "metadata": {},
   "source": [
    "## Encode the categorical string data"
   ]
  },
  {
   "cell_type": "code",
   "execution_count": 17,
   "metadata": {
    "collapsed": false
   },
   "outputs": [],
   "source": [
    "# Import LabelEncoder and initialize it\n",
    "from sklearn.preprocessing import LabelEncoder\n",
    "lenc=LabelEncoder()\n",
    "# Encode the entire DataFrame before splitting the data into training and test sets\n",
    "X_col_names = X.columns.values\n",
    "for col in X_col_names:\n",
    "    # Encode only the categorical columns\n",
    "    if X[col].dtypes == 'object':\n",
    "        lenc.fit(X[col])\n",
    "        X[col+'.t']=lenc.transform(X[col])\n",
    "        X = X.drop(col, axis = 1)\n",
    "X.columns = X_col_names"
   ]
  },
  {
   "cell_type": "code",
   "execution_count": 18,
   "metadata": {
    "collapsed": false
   },
   "outputs": [
    {
     "name": "stdout",
     "output_type": "stream",
     "text": [
      "<class 'pandas.core.frame.DataFrame'>\n",
      "Int64Index: 12853 entries, 2 to 99997\n",
      "Data columns (total 39 columns):\n",
      "I1     12853 non-null int64\n",
      "I2     12853 non-null int64\n",
      "I3     12853 non-null int64\n",
      "I4     12853 non-null int64\n",
      "I5     12853 non-null int64\n",
      "I6     12853 non-null int64\n",
      "I7     12853 non-null int64\n",
      "I8     12853 non-null int64\n",
      "I9     12853 non-null int64\n",
      "I10    12853 non-null int64\n",
      "I11    12853 non-null int64\n",
      "I12    12853 non-null int64\n",
      "I13    12853 non-null int64\n",
      "C1     12853 non-null int64\n",
      "C2     12853 non-null int64\n",
      "C3     12853 non-null int64\n",
      "C4     12853 non-null int64\n",
      "C5     12853 non-null int64\n",
      "C6     12853 non-null int64\n",
      "C7     12853 non-null int64\n",
      "C8     12853 non-null int64\n",
      "C9     12853 non-null int64\n",
      "C10    12853 non-null int64\n",
      "C11    12853 non-null int64\n",
      "C12    12853 non-null int64\n",
      "C13    12853 non-null int64\n",
      "C14    12853 non-null int64\n",
      "C15    12853 non-null int64\n",
      "C16    12853 non-null int64\n",
      "C17    12853 non-null int64\n",
      "C18    12853 non-null int64\n",
      "C19    12853 non-null int64\n",
      "C20    12853 non-null int64\n",
      "C21    12853 non-null int64\n",
      "C22    12853 non-null int64\n",
      "C23    12853 non-null int64\n",
      "C24    12853 non-null int64\n",
      "C25    12853 non-null int64\n",
      "C26    12853 non-null int64\n",
      "dtypes: int64(39)\n",
      "memory usage: 3.9 MB\n"
     ]
    }
   ],
   "source": [
    "# All categorical string values are now encoded as int64\n",
    "X.info()"
   ]
  },
  {
   "cell_type": "code",
   "execution_count": 19,
   "metadata": {
    "collapsed": false
   },
   "outputs": [
    {
     "data": {
      "text/html": [
       "<div>\n",
       "<table border=\"1\" class=\"dataframe\">\n",
       "  <thead>\n",
       "    <tr style=\"text-align: right;\">\n",
       "      <th></th>\n",
       "      <th>I1</th>\n",
       "      <th>I2</th>\n",
       "      <th>I3</th>\n",
       "      <th>I4</th>\n",
       "      <th>I5</th>\n",
       "      <th>I6</th>\n",
       "      <th>I7</th>\n",
       "      <th>I8</th>\n",
       "      <th>I9</th>\n",
       "      <th>I10</th>\n",
       "      <th>...</th>\n",
       "      <th>C17</th>\n",
       "      <th>C18</th>\n",
       "      <th>C19</th>\n",
       "      <th>C20</th>\n",
       "      <th>C21</th>\n",
       "      <th>C22</th>\n",
       "      <th>C23</th>\n",
       "      <th>C24</th>\n",
       "      <th>C25</th>\n",
       "      <th>C26</th>\n",
       "    </tr>\n",
       "  </thead>\n",
       "  <tbody>\n",
       "    <tr>\n",
       "      <th>85327</th>\n",
       "      <td>8</td>\n",
       "      <td>53</td>\n",
       "      <td>1</td>\n",
       "      <td>4</td>\n",
       "      <td>293</td>\n",
       "      <td>11</td>\n",
       "      <td>13</td>\n",
       "      <td>48</td>\n",
       "      <td>97</td>\n",
       "      <td>1</td>\n",
       "      <td>...</td>\n",
       "      <td>5</td>\n",
       "      <td>997</td>\n",
       "      <td>73</td>\n",
       "      <td>0</td>\n",
       "      <td>2675</td>\n",
       "      <td>3</td>\n",
       "      <td>1</td>\n",
       "      <td>1549</td>\n",
       "      <td>15</td>\n",
       "      <td>1526</td>\n",
       "    </tr>\n",
       "    <tr>\n",
       "      <th>60972</th>\n",
       "      <td>0</td>\n",
       "      <td>-1</td>\n",
       "      <td>30</td>\n",
       "      <td>14</td>\n",
       "      <td>1634</td>\n",
       "      <td>34</td>\n",
       "      <td>9</td>\n",
       "      <td>29</td>\n",
       "      <td>29</td>\n",
       "      <td>0</td>\n",
       "      <td>...</td>\n",
       "      <td>3</td>\n",
       "      <td>492</td>\n",
       "      <td>73</td>\n",
       "      <td>0</td>\n",
       "      <td>4359</td>\n",
       "      <td>3</td>\n",
       "      <td>0</td>\n",
       "      <td>394</td>\n",
       "      <td>16</td>\n",
       "      <td>2368</td>\n",
       "    </tr>\n",
       "    <tr>\n",
       "      <th>83932</th>\n",
       "      <td>0</td>\n",
       "      <td>0</td>\n",
       "      <td>13</td>\n",
       "      <td>22</td>\n",
       "      <td>1585</td>\n",
       "      <td>59</td>\n",
       "      <td>61</td>\n",
       "      <td>18</td>\n",
       "      <td>414</td>\n",
       "      <td>0</td>\n",
       "      <td>...</td>\n",
       "      <td>5</td>\n",
       "      <td>120</td>\n",
       "      <td>73</td>\n",
       "      <td>2</td>\n",
       "      <td>4075</td>\n",
       "      <td>3</td>\n",
       "      <td>0</td>\n",
       "      <td>776</td>\n",
       "      <td>32</td>\n",
       "      <td>1146</td>\n",
       "    </tr>\n",
       "    <tr>\n",
       "      <th>23656</th>\n",
       "      <td>1</td>\n",
       "      <td>1</td>\n",
       "      <td>9</td>\n",
       "      <td>9</td>\n",
       "      <td>0</td>\n",
       "      <td>1</td>\n",
       "      <td>16</td>\n",
       "      <td>35</td>\n",
       "      <td>64</td>\n",
       "      <td>1</td>\n",
       "      <td>...</td>\n",
       "      <td>5</td>\n",
       "      <td>997</td>\n",
       "      <td>73</td>\n",
       "      <td>0</td>\n",
       "      <td>1821</td>\n",
       "      <td>3</td>\n",
       "      <td>10</td>\n",
       "      <td>922</td>\n",
       "      <td>15</td>\n",
       "      <td>2117</td>\n",
       "    </tr>\n",
       "    <tr>\n",
       "      <th>10430</th>\n",
       "      <td>1</td>\n",
       "      <td>0</td>\n",
       "      <td>10</td>\n",
       "      <td>8</td>\n",
       "      <td>93</td>\n",
       "      <td>8</td>\n",
       "      <td>19</td>\n",
       "      <td>16</td>\n",
       "      <td>92</td>\n",
       "      <td>1</td>\n",
       "      <td>...</td>\n",
       "      <td>7</td>\n",
       "      <td>2</td>\n",
       "      <td>73</td>\n",
       "      <td>0</td>\n",
       "      <td>3638</td>\n",
       "      <td>4</td>\n",
       "      <td>1</td>\n",
       "      <td>289</td>\n",
       "      <td>32</td>\n",
       "      <td>1929</td>\n",
       "    </tr>\n",
       "  </tbody>\n",
       "</table>\n",
       "<p>5 rows × 39 columns</p>\n",
       "</div>"
      ],
      "text/plain": [
       "       I1  I2  I3  I4    I5  I6  I7  I8   I9  I10  ...   C17  C18  C19  C20  \\\n",
       "85327   8  53   1   4   293  11  13  48   97    1  ...     5  997   73    0   \n",
       "60972   0  -1  30  14  1634  34   9  29   29    0  ...     3  492   73    0   \n",
       "83932   0   0  13  22  1585  59  61  18  414    0  ...     5  120   73    2   \n",
       "23656   1   1   9   9     0   1  16  35   64    1  ...     5  997   73    0   \n",
       "10430   1   0  10   8    93   8  19  16   92    1  ...     7    2   73    0   \n",
       "\n",
       "        C21  C22  C23   C24  C25   C26  \n",
       "85327  2675    3    1  1549   15  1526  \n",
       "60972  4359    3    0   394   16  2368  \n",
       "83932  4075    3    0   776   32  1146  \n",
       "23656  1821    3   10   922   15  2117  \n",
       "10430  3638    4    1   289   32  1929  \n",
       "\n",
       "[5 rows x 39 columns]"
      ]
     },
     "execution_count": 19,
     "metadata": {},
     "output_type": "execute_result"
    }
   ],
   "source": [
    "# Sample the indexed DataFrame\n",
    "X.sample(n=5, random_state=2)"
   ]
  },
  {
   "cell_type": "markdown",
   "metadata": {},
   "source": [
    "## Create training and test datasets"
   ]
  },
  {
   "cell_type": "code",
   "execution_count": 20,
   "metadata": {
    "collapsed": false
   },
   "outputs": [],
   "source": [
    "# split X and y into training and testing sets\n",
    "from sklearn.model_selection import train_test_split\n",
    "X_train, X_test, y_train, y_test = train_test_split(X, y, train_size=0.9, random_state=0)"
   ]
  },
  {
   "cell_type": "code",
   "execution_count": 21,
   "metadata": {
    "collapsed": false
   },
   "outputs": [
    {
     "name": "stdout",
     "output_type": "stream",
     "text": [
      "Number of rows in X_train is 11567.\n",
      "Number of rows in X_test is 1286.\n",
      "Number of rows in y_train is 11567.\n",
      "Number of rows in y_test is 1286.\n"
     ]
    }
   ],
   "source": [
    "# Show the number of rows in each data set\n",
    "print('Number of rows in X_train is {}.'.format(X_train.shape[0]))\n",
    "print('Number of rows in X_test is {}.'.format(X_test.shape[0]))\n",
    "print('Number of rows in y_train is {}.'.format(y_train.shape[0]))\n",
    "print('Number of rows in y_test is {}.'.format(y_test.shape[0]))"
   ]
  },
  {
   "cell_type": "markdown",
   "metadata": {},
   "source": [
    "## Train a model"
   ]
  },
  {
   "cell_type": "code",
   "execution_count": 22,
   "metadata": {
    "collapsed": true
   },
   "outputs": [],
   "source": [
    "#import required modules from the scikit-learn metrics package\n",
    "from sklearn.metrics import accuracy_score, confusion_matrix, roc_curve, roc_auc_score"
   ]
  },
  {
   "cell_type": "code",
   "execution_count": 23,
   "metadata": {
    "collapsed": true
   },
   "outputs": [],
   "source": [
    "# setup for plotting\n",
    "import matplotlib.pyplot as plt\n",
    "%matplotlib inline"
   ]
  },
  {
   "cell_type": "code",
   "execution_count": 24,
   "metadata": {
    "collapsed": false
   },
   "outputs": [
    {
     "name": "stdout",
     "output_type": "stream",
     "text": [
      "Accuracy score for Logistic Regression = 0.71\n"
     ]
    }
   ],
   "source": [
    "#Logistic Regression Model\n",
    "from sklearn.linear_model import LogisticRegression\n",
    "lreg=LogisticRegression()\n",
    "lreg.fit(X_train, y_train)\n",
    "\n",
    "# Check the model's accuracy\n",
    "y_pred = lreg.predict(X_test)\n",
    "print('Accuracy score for Logistic Regression = {:.2f}'.format(accuracy_score(y_test,y_pred)))"
   ]
  },
  {
   "cell_type": "code",
   "execution_count": 25,
   "metadata": {
    "collapsed": false
   },
   "outputs": [
    {
     "name": "stdout",
     "output_type": "stream",
     "text": [
      "[[885  24]\n",
      " [350  27]]\n"
     ]
    }
   ],
   "source": [
    "# Print the confusion matrix for Logistic Regression analysis\n",
    "cm = confusion_matrix(y_test, y_pred)\n",
    "print(cm)"
   ]
  },
  {
   "cell_type": "code",
   "execution_count": 26,
   "metadata": {
    "collapsed": false
   },
   "outputs": [
    {
     "data": {
      "image/png": "[encoded data removed]",
      "text/plain": [
       "<matplotlib.figure.Figure at 0x7f219cf6b4e0>"
      ]
     },
     "metadata": {},
     "output_type": "display_data"
    }
   ],
   "source": [
    "# Plot the confusion matrix\n",
    "plt.matshow(cm)\n",
    "plt.title('Confusion matrix')\n",
    "plt.colorbar()\n",
    "plt.ylabel('True label')\n",
    "plt.xlabel('Predicted label')\n",
    "plt.show()"
   ]
  },
  {
   "cell_type": "code",
   "execution_count": 27,
   "metadata": {
    "collapsed": false
   },
   "outputs": [
    {
     "data": {
      "image/png": "[encoded data removed]",
      "text/plain": [
       "<matplotlib.figure.Figure at 0x7f219c8467b8>"
      ]
     },
     "metadata": {},
     "output_type": "display_data"
    }
   ],
   "source": [
    "# Plot the ROC curve\n",
    "fpr, tpr, thresholds = roc_curve(y_test, y_pred)\n",
    "plt.plot(fpr, tpr)\n",
    "plt.xlim([0.0, 1.0])\n",
    "plt.ylim([0.0, 1.0])\n",
    "plt.title('ROC curve for click-through rate (Logistic Regression)')\n",
    "plt.xlabel('False Positive Rate')\n",
    "plt.ylabel('True Positive Rate')\n",
    "plt.grid(True)"
   ]
  },
  {
   "cell_type": "code",
   "execution_count": 28,
   "metadata": {
    "collapsed": false
   },
   "outputs": [
    {
     "name": "stdout",
     "output_type": "stream",
     "text": [
      "AUC using Logistic Regression = 0.52\n"
     ]
    }
   ],
   "source": [
    "# Print out AUC, the percentage of the ROC plot that is underneath the curve\n",
    "print('AUC using Logistic Regression = {:.2f}'.format(roc_auc_score(y_test, y_pred)))"
   ]
  },
  {
   "cell_type": "code",
   "execution_count": 29,
   "metadata": {
    "collapsed": false
   },
   "outputs": [
    {
     "name": "stdout",
     "output_type": "stream",
     "text": [
      "Cross-validated AUC for Logistic Regression = 0.69\n"
     ]
    }
   ],
   "source": [
    "# calculate cross-validated AUC\n",
    "from sklearn.model_selection import cross_val_score\n",
    "# 10-fold cross-validation for Logistic Regression\n",
    "lreg_avg_cross_val_score = cross_val_score(lreg, X, y, cv=10, scoring='roc_auc').mean()\n",
    "print('Cross-validated AUC for Logistic Regression = {:.2f}'.format(lreg_avg_cross_val_score))"
   ]
  },
  {
   "cell_type": "markdown",
   "metadata": {},
   "source": [
    "## Check accuracy score results using a few other classification algorithms\n",
    "### k-nearest neighbor"
   ]
  },
  {
   "cell_type": "code",
   "execution_count": 30,
   "metadata": {
    "collapsed": false
   },
   "outputs": [
    {
     "name": "stdout",
     "output_type": "stream",
     "text": [
      "Accuracy score using k-nearest neighbor = 0.65\n",
      "AUC using k-nearest neighbor = 0.52\n"
     ]
    }
   ],
   "source": [
    "# k-nearest neighbor KNN Model\n",
    "from sklearn.neighbors import KNeighborsClassifier\n",
    "# K=5 for KNN (the n_neighbors parameter)\n",
    "knn = KNeighborsClassifier(n_neighbors=5)\n",
    "knn.fit(X_train, y_train)\n",
    "\n",
    "y_pred = knn.predict(X_test)\n",
    "print('Accuracy score using k-nearest neighbor = {:.2f}'.format(accuracy_score(y_test,y_pred)))\n",
    "print('AUC using k-nearest neighbor = {:.2f}'.format(roc_auc_score(y_test,y_pred)))"
   ]
  },
  {
   "cell_type": "code",
   "execution_count": 31,
   "metadata": {
    "collapsed": false
   },
   "outputs": [
    {
     "name": "stdout",
     "output_type": "stream",
     "text": [
      "Cross-validated AUC for KNN = 0.57\n"
     ]
    }
   ],
   "source": [
    "#Cross Validation\n",
    "# 10-fold cross-validation with K=5 for KNN (the n_neighbors parameter)\n",
    "knn_avg_cross_val_score = cross_val_score(knn, X, y, cv=10, scoring='roc_auc').mean()\n",
    "print('Cross-validated AUC for KNN = {:.2f}'.format(knn_avg_cross_val_score))"
   ]
  },
  {
   "cell_type": "markdown",
   "metadata": {},
   "source": [
    "### Naive Bayes"
   ]
  },
  {
   "cell_type": "code",
   "execution_count": 32,
   "metadata": {
    "collapsed": false
   },
   "outputs": [
    {
     "name": "stdout",
     "output_type": "stream",
     "text": [
      "Accuracy score using Naive Bayes = 0.48\n",
      "AUC using Naive Bayes = 0.58\n"
     ]
    }
   ],
   "source": [
    "from sklearn.naive_bayes import GaussianNB\n",
    "gnb = GaussianNB()\n",
    "gnb = gnb.fit(X_train, y_train)\n",
    "\n",
    "y_pred = gnb.predict(X_test)\n",
    "print('Accuracy score using Naive Bayes = {:.2f}'.format(accuracy_score(y_test,y_pred)))\n",
    "print('AUC using Naive Bayes = {:.2f}'.format(roc_auc_score(y_test,y_pred)))"
   ]
  },
  {
   "cell_type": "code",
   "execution_count": 33,
   "metadata": {
    "collapsed": false
   },
   "outputs": [
    {
     "name": "stdout",
     "output_type": "stream",
     "text": [
      "Cross-validated AUC for GaussianNB = 0.66\n"
     ]
    }
   ],
   "source": [
    "#Cross Validation\n",
    "#gnb = GaussianNB()\n",
    "gnb_avg_cross_val_score = cross_val_score(gnb, X, y, cv=10, scoring='roc_auc').mean()\n",
    "print('Cross-validated AUC for GaussianNB = {:.2f}'.format(gnb_avg_cross_val_score))"
   ]
  },
  {
   "cell_type": "markdown",
   "metadata": {},
   "source": [
    "## Hyperparamater Tuning"
   ]
  },
  {
   "cell_type": "code",
   "execution_count": 34,
   "metadata": {
    "collapsed": false
   },
   "outputs": [],
   "source": [
    "from sklearn.model_selection import GridSearchCV"
   ]
  },
  {
   "cell_type": "markdown",
   "metadata": {},
   "source": [
    "### Logistic Regression"
   ]
  },
  {
   "cell_type": "code",
   "execution_count": 35,
   "metadata": {
    "collapsed": false
   },
   "outputs": [],
   "source": [
    "# create lists of the parameter values that should be searched\n",
    "# The penalty parameter is used to specify the norm used in the penalization\n",
    "penaltyList = ['l1', 'l2']\n",
    "#The C parameter is the inverse of regularization strength, must be a positive float, smaller values specify stronger regularization\n",
    "Crange = [float(i)/10 for i in (list(range(1,10,1)))]\n",
    "#Created a range of positive, float C values to search"
   ]
  },
  {
   "cell_type": "code",
   "execution_count": 36,
   "metadata": {
    "collapsed": false
   },
   "outputs": [
    {
     "name": "stdout",
     "output_type": "stream",
     "text": [
      "{'C': [0.1, 0.2, 0.3, 0.4, 0.5, 0.6, 0.7, 0.8, 0.9], 'penalty': ['l1', 'l2']}\n"
     ]
    }
   ],
   "source": [
    "# create a parameter grid by mapping the parameter names to the values/list that should be searched\n",
    "param_grid = dict(penalty = penaltyList, C = Crange)\n",
    "print(param_grid)"
   ]
  },
  {
   "cell_type": "code",
   "execution_count": 37,
   "metadata": {
    "collapsed": false
   },
   "outputs": [
    {
     "data": {
      "text/plain": [
       "GridSearchCV(cv=3, error_score='raise',\n",
       "       estimator=LogisticRegression(C=1.0, class_weight=None, dual=False, fit_intercept=True,\n",
       "          intercept_scaling=1, max_iter=100, multi_class='ovr', n_jobs=1,\n",
       "          penalty='l2', random_state=None, solver='liblinear', tol=0.0001,\n",
       "          verbose=0, warm_start=False),\n",
       "       fit_params={}, iid=True, n_jobs=1,\n",
       "       param_grid={'C': [0.1, 0.2, 0.3, 0.4, 0.5, 0.6, 0.7, 0.8, 0.9], 'penalty': ['l1', 'l2']},\n",
       "       pre_dispatch='2*n_jobs', refit=True, return_train_score=True,\n",
       "       scoring='roc_auc', verbose=0)"
      ]
     },
     "execution_count": 37,
     "metadata": {},
     "output_type": "execute_result"
    }
   ],
   "source": [
    "# instantiate and fit the grid\n",
    "grid = GridSearchCV(lreg, param_grid, cv=3, scoring='roc_auc')\n",
    "grid.fit(X, y)"
   ]
  },
  {
   "cell_type": "code",
   "execution_count": 38,
   "metadata": {
    "collapsed": false
   },
   "outputs": [
    {
     "data": {
      "text/plain": [
       "{'mean_fit_time': array([ 0.25979257,  1.19166025,  0.41960859,  1.19364953,  0.38341538,\n",
       "         1.07521621,  0.40502151,  1.05259418,  0.63826148,  1.04714807,\n",
       "         0.42125821,  1.06251446,  0.69382151,  1.19032049,  0.74295576,\n",
       "         1.01594377,  0.33738645,  1.13059251]),\n",
       " 'mean_score_time': array([ 0.0223008 ,  0.02619743,  0.01443521,  0.00736364,  0.00807428,\n",
       "         0.00576576,  0.00844685,  0.0082794 ,  0.0051415 ,  0.00582997,\n",
       "         0.01113939,  0.01236765,  0.00564011,  0.00698511,  0.00684786,\n",
       "         0.00324202,  0.00829411,  0.01673317]),\n",
       " 'mean_test_score': array([ 0.68777587,  0.68596436,  0.68762077,  0.68525695,  0.68760441,\n",
       "         0.68573473,  0.68760948,  0.68586292,  0.68758552,  0.68640434,\n",
       "         0.68755443,  0.68648134,  0.68754359,  0.68589619,  0.68753211,\n",
       "         0.68506874,  0.68759836,  0.68676277]),\n",
       " 'mean_train_score': array([ 0.69805071,  0.69671395,  0.69803324,  0.69633382,  0.69799309,\n",
       "         0.69624885,  0.69796512,  0.69642044,  0.69792592,  0.69647728,\n",
       "         0.69792818,  0.69608147,  0.69790052,  0.69661383,  0.69790558,\n",
       "         0.69605385,  0.69788748,  0.69680701]),\n",
       " 'param_C': masked_array(data = [0.1 0.1 0.2 0.2 0.3 0.3 0.4 0.4 0.5 0.5 0.6 0.6 0.7 0.7 0.8 0.8 0.9 0.9],\n",
       "              mask = [False False False False False False False False False False False False\n",
       "  False False False False False False],\n",
       "        fill_value = ?),\n",
       " 'param_penalty': masked_array(data = ['l1' 'l2' 'l1' 'l2' 'l1' 'l2' 'l1' 'l2' 'l1' 'l2' 'l1' 'l2' 'l1' 'l2' 'l1'\n",
       "  'l2' 'l1' 'l2'],\n",
       "              mask = [False False False False False False False False False False False False\n",
       "  False False False False False False],\n",
       "        fill_value = ?),\n",
       " 'params': ({'C': 0.1, 'penalty': 'l1'},\n",
       "  {'C': 0.1, 'penalty': 'l2'},\n",
       "  {'C': 0.2, 'penalty': 'l1'},\n",
       "  {'C': 0.2, 'penalty': 'l2'},\n",
       "  {'C': 0.3, 'penalty': 'l1'},\n",
       "  {'C': 0.3, 'penalty': 'l2'},\n",
       "  {'C': 0.4, 'penalty': 'l1'},\n",
       "  {'C': 0.4, 'penalty': 'l2'},\n",
       "  {'C': 0.5, 'penalty': 'l1'},\n",
       "  {'C': 0.5, 'penalty': 'l2'},\n",
       "  {'C': 0.6, 'penalty': 'l1'},\n",
       "  {'C': 0.6, 'penalty': 'l2'},\n",
       "  {'C': 0.7, 'penalty': 'l1'},\n",
       "  {'C': 0.7, 'penalty': 'l2'},\n",
       "  {'C': 0.8, 'penalty': 'l1'},\n",
       "  {'C': 0.8, 'penalty': 'l2'},\n",
       "  {'C': 0.9, 'penalty': 'l1'},\n",
       "  {'C': 0.9, 'penalty': 'l2'}),\n",
       " 'rank_test_score': array([ 1, 13,  2, 17,  4, 16,  3, 15,  6, 12,  7, 11,  8, 14,  9, 18,  5,\n",
       "        10], dtype=int32),\n",
       " 'split0_test_score': array([ 0.67850489,  0.67486464,  0.67828287,  0.67617077,  0.67826145,\n",
       "         0.67638331,  0.67828016,  0.67546024,  0.67827446,  0.67558223,\n",
       "         0.67817687,  0.67579206,  0.67818311,  0.67525339,  0.67814271,\n",
       "         0.67687101,  0.6782197 ,  0.67691628]),\n",
       " 'split0_train_score': array([ 0.7029606 ,  0.70128443,  0.70295979,  0.70206753,  0.7029663 ,\n",
       "         0.70187838,  0.70295233,  0.70154137,  0.70290941,  0.70143676,\n",
       "         0.70293213,  0.70161391,  0.70289992,  0.70116192,  0.7029086 ,\n",
       "         0.70224122,  0.70291586,  0.70196516]),\n",
       " 'split1_test_score': array([ 0.68488267,  0.68422262,  0.68459413,  0.68443712,  0.68461637,\n",
       "         0.68498789,  0.68463508,  0.68500633,  0.68457732,  0.68478857,\n",
       "         0.68456864,  0.68404038,  0.68454858,  0.68423455,  0.68454885,\n",
       "         0.68468173,  0.68451061,  0.68441217]),\n",
       " 'split1_train_score': array([ 0.70121608,  0.70019748,  0.70114606,  0.70024988,  0.70108804,\n",
       "         0.69968212,  0.70106451,  0.70004775,  0.70100825,  0.69935519,\n",
       "         0.70101042,  0.69705045,  0.7009867 ,  0.70030662,  0.70098582,\n",
       "         0.7002267 ,  0.70096901,  0.699651  ]),\n",
       " 'split2_test_score': array([ 0.69994221,  0.6988084 ,  0.6999875 ,  0.69516507,  0.6999376 ,\n",
       "         0.69583516,  0.69991536,  0.69712463,  0.69990696,  0.69884474,\n",
       "         0.69991997,  0.69961408,  0.69990126,  0.69820312,  0.69990696,\n",
       "         0.6936554 ,  0.70006695,  0.69896216]),\n",
       " 'split2_train_score': array([ 0.68997545,  0.68865995,  0.68999388,  0.68668404,  0.68992495,\n",
       "         0.68718605,  0.68987852,  0.6876722 ,  0.68986008,  0.68863989,\n",
       "         0.68984198,  0.68958006,  0.68981493,  0.68837295,  0.68982232,\n",
       "         0.68569364,  0.68977758,  0.68880488]),\n",
       " 'std_fit_time': array([ 0.13727046,  0.23553105,  0.12957158,  0.32271167,  0.12919158,\n",
       "         0.16592915,  0.24238729,  0.01701346,  0.28079399,  0.15482012,\n",
       "         0.27003321,  0.33794704,  0.30292652,  0.23598072,  0.36376314,\n",
       "         0.28859843,  0.16405711,  0.09797729]),\n",
       " 'std_score_time': array([  1.28590481e-02,   2.12543659e-02,   6.42802602e-03,\n",
       "          4.71957000e-03,   3.59052881e-03,   3.55558217e-03,\n",
       "          3.82684453e-03,   3.84396684e-03,   3.00665839e-03,\n",
       "          3.87030315e-03,   3.12398097e-05,   4.44333696e-03,\n",
       "          3.49784732e-03,   4.40298079e-03,   3.11055802e-03,\n",
       "          1.33250748e-04,   3.68309417e-03,   8.62895529e-03]),\n",
       " 'std_test_score': array([ 0.00898782,  0.00985246,  0.00911581,  0.00777618,  0.00909813,\n",
       "         0.00795888,  0.00907963,  0.00886534,  0.00908412,  0.00956553,\n",
       "         0.00912435,  0.00987745,  0.00911595,  0.00944275,  0.00913233,\n",
       "         0.00685779,  0.00918259,  0.00915254]),\n",
       " 'std_train_score': array([ 0.00575432,  0.0057123 ,  0.00573271,  0.00686366,  0.00575634,\n",
       "         0.00647079,  0.0057698 ,  0.00621592,  0.00575598,  0.00560665,\n",
       "         0.00577138,  0.00496035,  0.00577048,  0.00583763,  0.00576938,\n",
       "         0.0073718 ,  0.00578938,  0.00573669])}"
      ]
     },
     "execution_count": 38,
     "metadata": {},
     "output_type": "execute_result"
    }
   ],
   "source": [
    "# view the complete results\n",
    "grid.cv_results_"
   ]
  },
  {
   "cell_type": "code",
   "execution_count": 39,
   "metadata": {
    "collapsed": false
   },
   "outputs": [
    {
     "name": "stdout",
     "output_type": "stream",
     "text": [
      "Best AUC for Logistic Regression = 0.69\n",
      "\n",
      "Parameters for Best AUC for Logistic Regression = {'C': 0.1, 'penalty': 'l1'}\n",
      "\n",
      "Full list of paramemters for best estimator for Logistic Regression:\n",
      " LogisticRegression(C=0.1, class_weight=None, dual=False, fit_intercept=True,\n",
      "          intercept_scaling=1, max_iter=100, multi_class='ovr', n_jobs=1,\n",
      "          penalty='l1', random_state=None, solver='liblinear', tol=0.0001,\n",
      "          verbose=0, warm_start=False)\n"
     ]
    }
   ],
   "source": [
    "# examine the best model\n",
    "print('Best AUC for Logistic Regression = {:.2f}'.format(grid.best_score_))\n",
    "print('')\n",
    "print('Parameters for Best AUC for Logistic Regression = {}'.format(grid.best_params_))\n",
    "print('')\n",
    "print('Full list of paramemters for best estimator for Logistic Regression:\\n {}'.format(grid.best_estimator_))"
   ]
  },
  {
   "cell_type": "markdown",
   "metadata": {},
   "source": [
    "### k-nearest neighbor"
   ]
  },
  {
   "cell_type": "code",
   "execution_count": 40,
   "metadata": {
    "collapsed": false
   },
   "outputs": [
    {
     "data": {
      "text/plain": [
       "[1, 10, 20, 30, 40, 50]"
      ]
     },
     "execution_count": 40,
     "metadata": {},
     "output_type": "execute_result"
    }
   ],
   "source": [
    "# create list of KNN (the n_neighbors parameter) values to search\n",
    "KNNrange = [knn for knn in range(10,51,10)]\n",
    "KNNrange.insert(0, 1)\n",
    "#Created a range of integer KNN values between 1 and 50 in increments of 10\n",
    "KNNrange"
   ]
  },
  {
   "cell_type": "code",
   "execution_count": 41,
   "metadata": {
    "collapsed": false
   },
   "outputs": [
    {
     "name": "stdout",
     "output_type": "stream",
     "text": [
      "{'n_neighbors': [1, 10, 20, 30, 40, 50]}\n"
     ]
    }
   ],
   "source": [
    "# create a parameter grid by mapping the parameter names to the values/list that should be searched\n",
    "param_grid = dict(n_neighbors = KNNrange)\n",
    "print(param_grid)"
   ]
  },
  {
   "cell_type": "code",
   "execution_count": 42,
   "metadata": {
    "collapsed": false
   },
   "outputs": [
    {
     "data": {
      "text/plain": [
       "GridSearchCV(cv=3, error_score='raise',\n",
       "       estimator=KNeighborsClassifier(algorithm='auto', leaf_size=30, metric='minkowski',\n",
       "           metric_params=None, n_jobs=1, n_neighbors=5, p=2,\n",
       "           weights='uniform'),\n",
       "       fit_params={}, iid=True, n_jobs=1,\n",
       "       param_grid={'n_neighbors': [1, 10, 20, 30, 40, 50]},\n",
       "       pre_dispatch='2*n_jobs', refit=True, return_train_score=True,\n",
       "       scoring='roc_auc', verbose=0)"
      ]
     },
     "execution_count": 42,
     "metadata": {},
     "output_type": "execute_result"
    }
   ],
   "source": [
    "# instantiate and fit the grid\n",
    "grid = GridSearchCV(knn, param_grid, cv=3, scoring='roc_auc')\n",
    "grid.fit(X, y)"
   ]
  },
  {
   "cell_type": "code",
   "execution_count": 43,
   "metadata": {
    "collapsed": false
   },
   "outputs": [
    {
     "data": {
      "text/plain": [
       "<matplotlib.text.Text at 0x7f219f1cd2e8>"
      ]
     },
     "execution_count": 43,
     "metadata": {},
     "output_type": "execute_result"
    },
    {
     "data": {
      "image/png": "[encoded data removed]",
      "text/plain": [
       "<matplotlib.figure.Figure at 0x7f219f29db00>"
      ]
     },
     "metadata": {},
     "output_type": "display_data"
    }
   ],
   "source": [
    "# plot the results\n",
    "plt.plot(KNNrange, [j for j in grid.cv_results_['mean_test_score']])\n",
    "plt.xlabel('Value of K for KNN')\n",
    "plt.ylabel('Cross-Validated AUC')"
   ]
  },
  {
   "cell_type": "code",
   "execution_count": 44,
   "metadata": {
    "collapsed": false
   },
   "outputs": [
    {
     "name": "stdout",
     "output_type": "stream",
     "text": [
      "Best AUC for k-nearest neighbor = 0.59\n",
      "\n",
      "Parameters for Best AUC for k-nearest neighbor = {'n_neighbors': 50}\n",
      "\n",
      "Full list of paramemters for best estimator for k-nearest neighbor:\n",
      " KNeighborsClassifier(algorithm='auto', leaf_size=30, metric='minkowski',\n",
      "           metric_params=None, n_jobs=1, n_neighbors=50, p=2,\n",
      "           weights='uniform')\n"
     ]
    }
   ],
   "source": [
    "# examine the best model\n",
    "print('Best AUC for k-nearest neighbor = {:.2f}'.format(grid.best_score_))\n",
    "print('')\n",
    "print('Parameters for Best AUC for k-nearest neighbor = {}'.format(grid.best_params_))\n",
    "print('')\n",
    "print('Full list of paramemters for best estimator for k-nearest neighbor:\\n {}'.format(grid.best_estimator_))"
   ]
  },
  {
   "cell_type": "markdown",
   "metadata": {},
   "source": [
    "## Using spark-sklearn"
   ]
  },
  {
   "cell_type": "code",
   "execution_count": 45,
   "metadata": {
    "collapsed": false
   },
   "outputs": [
    {
     "name": "stdout",
     "output_type": "stream",
     "text": [
      "Requirement already satisfied (use --upgrade to upgrade): pixiedust in /gpfs/global_fs01/sym_shared/YPProdSpark/user/seda-14cf7a76f410ab-a5f39cf201a0/.local/lib/python3.5/site-packages\n",
      "Requirement already satisfied (use --upgrade to upgrade): lxml in /usr/local/src/conda3_runtime.v4/4.1.1/lib/python3.5/site-packages (from pixiedust)\n",
      "Requirement already satisfied (use --upgrade to upgrade): mpld3 in /usr/local/src/conda3_runtime.v4/4.1.1/lib/python3.5/site-packages (from pixiedust)\n",
      "Pixiedust database opened successfully\n",
      "Pixiedust version 0.73\n"
     ]
    },
    {
     "name": "stderr",
     "output_type": "stream",
     "text": [
      "/gpfs/fs01/user/seda-14cf7a76f410ab-a5f39cf201a0/.local/lib/python3.5/site-packages/pixiedust/display/chart/__init__.py:31: DeprecationWarning: The 'warn' method is deprecated, use 'warning' instead\n",
      "  myLogger.warn(\"Unable to import renderer {0}: {1}\".format(renderer, str(e)))\n"
     ]
    },
    {
     "name": "stdout",
     "output_type": "stream",
     "text": [
      "Package already installed: databricks:spark-sklearn:0.2.0\n"
     ]
    },
    {
     "data": {
      "text/plain": [
       "<pixiedust.packageManager.package.Package at 0x7f219f283c50>"
      ]
     },
     "execution_count": 45,
     "metadata": {},
     "output_type": "execute_result"
    }
   ],
   "source": [
    "!pip install pixiedust\n",
    "import pixiedust\n",
    "pixiedust.installPackage(\"databricks:spark-sklearn:0.2.0\")"
   ]
  },
  {
   "cell_type": "code",
   "execution_count": 46,
   "metadata": {
    "collapsed": true
   },
   "outputs": [],
   "source": [
    "import numpy as np\n",
    "from time import time"
   ]
  },
  {
   "cell_type": "markdown",
   "metadata": {},
   "source": [
    "### Repeat Grid Search for KNN using scikit-learn  and timing the calculation"
   ]
  },
  {
   "cell_type": "code",
   "execution_count": 47,
   "metadata": {
    "collapsed": true
   },
   "outputs": [],
   "source": [
    "# import scikit learn GridSearchCV in case imported GridSearchCV from spark_sklearn\n",
    "from sklearn.model_selection import GridSearchCV"
   ]
  },
  {
   "cell_type": "code",
   "execution_count": 48,
   "metadata": {
    "collapsed": false
   },
   "outputs": [
    {
     "name": "stdout",
     "output_type": "stream",
     "text": [
      "[10, 30, 50]\n",
      "[15, 30, 60]\n"
     ]
    }
   ],
   "source": [
    "# create a list of knn values to search\n",
    "KNNrange = [knn for knn in range(10,51,20)]\n",
    "print(KNNrange)\n",
    "# create list of leaf_size values to search\n",
    "leafDefault = 30\n",
    "leafRange = [int(leafDefault/2), leafDefault, leafDefault*2]\n",
    "print(leafRange)"
   ]
  },
  {
   "cell_type": "code",
   "execution_count": 49,
   "metadata": {
    "collapsed": false
   },
   "outputs": [
    {
     "name": "stdout",
     "output_type": "stream",
     "text": [
      "{'leaf_size': [15, 30, 60], 'n_neighbors': [10, 30, 50]}\n"
     ]
    }
   ],
   "source": [
    "# create a parameter grid by mapping the parameter names to the values/list that should be searched\n",
    "param_grid = dict(n_neighbors = KNNrange, leaf_size=leafRange)\n",
    "print(param_grid)"
   ]
  },
  {
   "cell_type": "code",
   "execution_count": 50,
   "metadata": {
    "collapsed": false
   },
   "outputs": [
    {
     "name": "stdout",
     "output_type": "stream",
     "text": [
      "Total number of combinations = 9\n"
     ]
    }
   ],
   "source": [
    "# Calculate total number of combinations in the Grid Search\n",
    "def multiply(elements):  \n",
    "    product = 1\n",
    "    for p in elements:\n",
    "        product *= p  \n",
    "    return product  \n",
    "numParam = multiply([len(param_grid[x]) for x in param_grid])\n",
    "print('Total number of combinations = {}'.format(numParam))"
   ]
  },
  {
   "cell_type": "code",
   "execution_count": 51,
   "metadata": {
    "collapsed": false
   },
   "outputs": [
    {
     "name": "stdout",
     "output_type": "stream",
     "text": [
      "GridSearchCV took 283.84 seconds for 9 parameter combinations x 5 folds.\n",
      "\n",
      "Best AUC using scikit-learn = 0.60.\n"
     ]
    }
   ],
   "source": [
    "# set the number of folds\n",
    "numFolds = 5\n",
    "grid = GridSearchCV(knn, param_grid, cv=numFolds, scoring='roc_auc')\n",
    "start = time()\n",
    "grid.fit(X, y)\n",
    "scikitTime = time() - start\n",
    "print(\"GridSearchCV took {:.2f} seconds for {:d} parameter combinations x {:d} folds.\".format(scikitTime, numParam, numFolds))\n",
    "print('')\n",
    "print('Best AUC using scikit-learn = {:.2f}.'.format(grid.best_score_))"
   ]
  },
  {
   "cell_type": "markdown",
   "metadata": {},
   "source": [
    "### Using Spark this time and timing the calculation"
   ]
  },
  {
   "cell_type": "code",
   "execution_count": 53,
   "metadata": {
    "collapsed": false
   },
   "outputs": [
    {
     "name": "stdout",
     "output_type": "stream",
     "text": [
      "GridSearchCV using spark-sklearn took 14.85 seconds for 9 parameter combinations x 5 folds.\n",
      "\n",
      "Best AUC using spark-sklearn = 0.60.\n"
     ]
    }
   ],
   "source": [
    "# Use spark-sklearn\n",
    "from spark_sklearn import GridSearchCV\n",
    "grid = GridSearchCV(sc, knn, param_grid, cv=numFolds, scoring='roc_auc')\n",
    "start = time()\n",
    "grid.fit(X, y)\n",
    "sparkTime = time() - start\n",
    "print(\"GridSearchCV using spark-sklearn took {:.2f} seconds for {:d} parameter combinations x {:d} folds.\".format(sparkTime, numParam, numFolds))\n",
    "print('')\n",
    "print('Best AUC using spark-sklearn = {:.2f}.'.format(grid.best_score_))"
   ]
  },
  {
   "cell_type": "markdown",
   "metadata": {
    "collapsed": true
   },
   "source": [
    "### Calculate Speedup by using spark-sklearn"
   ]
  },
  {
   "cell_type": "code",
   "execution_count": 54,
   "metadata": {
    "collapsed": false
   },
   "outputs": [
    {
     "name": "stdout",
     "output_type": "stream",
     "text": [
      "Speedup = 19.11\n"
     ]
    }
   ],
   "source": [
    "print('Speedup = {:.2f}'.format((scikitTime/sparkTime)))"
   ]
  },
  {
   "cell_type": "code",
   "execution_count": null,
   "metadata": {
    "collapsed": true
   },
   "outputs": [],
   "source": []
  }
 ],
 "metadata": {
  "kernelspec": {
   "display_name": "Python 3.5 (Experimental) with Spark 2.0",
   "language": "python",
   "name": "python3-spark20"
  },
  "language_info": {
   "codemirror_mode": {
    "name": "ipython",
    "version": 3
   },
   "file_extension": ".py",
   "mimetype": "text/x-python",
   "name": "python",
   "nbconvert_exporter": "python",
   "pygments_lexer": "ipython3",
   "version": "3.5.2"
  }
 },
 "nbformat": 4,
 "nbformat_minor": 0
}